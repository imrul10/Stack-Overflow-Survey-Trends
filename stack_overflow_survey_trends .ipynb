{
 "cells": [
  {
   "cell_type": "markdown",
   "id": "3562ce97",
   "metadata": {},
   "source": [
    "# Introduction\n",
    "What is the purpose of this project "
   ]
  },
  {
   "cell_type": "code",
   "execution_count": null,
   "id": "549ddab0",
   "metadata": {},
   "outputs": [],
   "source": [
    "import pandas as pd "
   ]
  },
  {
   "cell_type": "markdown",
   "id": "bc22101f",
   "metadata": {},
   "source": [
    "# Loading the Data\n"
   ]
  },
  {
   "cell_type": "code",
   "execution_count": null,
   "id": "4aa46895",
   "metadata": {},
   "outputs": [],
   "source": [
    "# Read the CSV file \n",
    "\n",
    "stack_overflow_file_path = 'developer_dataset.csv'\n",
    "\n",
    "try:\n",
    "    developer_dataset = pd.read(stack_overflow_file_path)\n",
    "except FileNotFoundError:\n",
    "    print(f'Error: the file {stack_overflow_file_path} was not found')\n",
    "\n",
    "stack_overflow_df = "
   ]
  }
 ],
 "metadata": {
  "hide_input": false,
  "kernelspec": {
   "display_name": "Python 3 (ipykernel)",
   "language": "python",
   "name": "python3"
  },
  "language_info": {
   "codemirror_mode": {
    "name": "ipython",
    "version": 3
   },
   "file_extension": ".py",
   "mimetype": "text/x-python",
   "name": "python",
   "nbconvert_exporter": "python",
   "pygments_lexer": "ipython3",
   "version": "3.11.5"
  }
 },
 "nbformat": 4,
 "nbformat_minor": 5
}
